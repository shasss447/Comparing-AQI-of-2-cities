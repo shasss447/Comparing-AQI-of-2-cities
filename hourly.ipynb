{
 "cells": [
  {
   "cell_type": "code",
   "execution_count": null,
   "metadata": {},
   "outputs": [],
   "source": [
    "import kagglehub\n",
    "\n",
    "# Download latest version\n",
    "path = kagglehub.dataset_download(\"rohanrao/air-quality-data-in-india\")"
   ]
  },
  {
   "cell_type": "code",
   "execution_count": null,
   "metadata": {},
   "outputs": [],
   "source": [
    "import pandas as pd\n",
    "path1=\"assignment/dataset/city_day.csv\"\n",
    "path2=\"/assignment/dataset/city_hour.csv\"\n",
    "data_daily = pd.read_csv(path1)\n",
    "data_hourly=pd.read_csv(path2)\n",
    "data_daily.head()"
   ]
  },
  {
   "cell_type": "code",
   "execution_count": null,
   "metadata": {},
   "outputs": [],
   "source": [
    "data_daily=data_daily.dropna(subset=['AQI'])\n",
    "data_hourly=data_hourly.dropna(subset=['AQI'])\n",
    "#dropping every column except AQI, date and City\n",
    "data_daily=data_daily[['City','Date','AQI']]\n",
    "data_hourly=data_hourly[['City','Datetime','AQI']]\n",
    "data_daily.info()"
   ]
  },
  {
   "cell_type": "code",
   "execution_count": null,
   "metadata": {},
   "outputs": [],
   "source": [
    "cities=['Delhi','Kolkata']\n",
    "data_daily=data_daily[data_daily['City'].isin(cities)]\n",
    "data_daily['Date']=pd.to_datetime(data_daily['Date'])\n",
    "data_hourly=data_hourly[data_hourly['City'].isin(cities)]\n",
    "data_hourly['DateT']=pd.to_datetime(data_hourly['Datetime'])\n",
    "data_daily.describe()\n"
   ]
  },
  {
   "cell_type": "code",
   "execution_count": null,
   "metadata": {},
   "outputs": [],
   "source": [
    "delhi_daily=data_daily[data_daily['City']=='Delhi']\n",
    "kolkata_daily=data_daily[data_daily['City']=='Kolkata']\n",
    "\n",
    "delhi_hourly=data_hourly[data_hourly['City']=='Delhi']\n",
    "kolkata_hourly=data_hourly[data_hourly['City']=='Kolkata']\n"
   ]
  },
  {
   "cell_type": "code",
   "execution_count": null,
   "metadata": {},
   "outputs": [],
   "source": [
    "print(delhi_daily['Date'].min())\n",
    "print(delhi_daily['Date'].max())\n",
    "print(kolkata_daily['Date'].min())\n",
    "print(kolkata_daily['Date'].max())\n",
    "# removing dates before 2018-05-07 00:00:00 from city1\n",
    "delhi_daily=delhi_daily[delhi_daily['Date']>='2018-07-01 00:00:00']\n",
    "kolkata_daily=kolkata_daily[kolkata_daily['Date']>='2018-07-01 00:00:00']"
   ]
  },
  {
   "cell_type": "code",
   "execution_count": null,
   "metadata": {},
   "outputs": [],
   "source": [
    "print(delhi_hourly['DateT'].min())\n",
    "print(delhi_hourly['DateT'].max())\n",
    "print(kolkata_hourly['DateT'].min())\n",
    "print(kolkata_hourly['DateT'].max())\n",
    "# removing dates before 2018-05-07 00:00:00 from city1\n",
    "delhi_hourly=delhi_hourly[delhi_hourly['DateT']>='2018-07-01 00:00:00']\n",
    "kolkata_hourly=kolkata_hourly[kolkata_hourly['DateT']>='2018-07-01 00:00:00']"
   ]
  },
  {
   "cell_type": "code",
   "execution_count": null,
   "metadata": {},
   "outputs": [],
   "source": [
    "# Plotting the data\n",
    "import matplotlib.pyplot as plt\n",
    "plt.figure(figsize=(15,6))\n",
    "plt.plot(delhi_daily['Date'],delhi_daily['AQI'],label='Delhi')\n",
    "plt.plot(kolkata_daily['Date'],kolkata_daily['AQI'],label='Kolkata')\n",
    "plt.xlabel('Date-Time')\n",
    "plt.ylabel('AQI')\n",
    "plt.legend()\n",
    "plt.show()\n"
   ]
  },
  {
   "cell_type": "code",
   "execution_count": null,
   "metadata": {},
   "outputs": [],
   "source": [
    "# Plotting the data\n",
    "import matplotlib.pyplot as plt\n",
    "plt.figure(figsize=(15,6))\n",
    "plt.plot(delhi_hourly['DateT'],delhi_hourly['AQI'],label='Delhi')\n",
    "plt.plot(kolkata_hourly['DateT'],kolkata_hourly['AQI'],label='Kolkata')\n",
    "plt.xlabel('Date-Time')\n",
    "plt.ylabel('AQI')\n",
    "plt.legend()\n",
    "plt.show()\n"
   ]
  },
  {
   "cell_type": "code",
   "execution_count": null,
   "metadata": {},
   "outputs": [],
   "source": [
    "def calculate_monthly_stats(city_data):\n",
    "    monthly_stats = {}\n",
    "    for year in city_data['Date'].dt.year.unique():\n",
    "        monthly_stats[year] = {}\n",
    "        for month in range(1, 13):\n",
    "            # Filter data for the specific year and month\n",
    "            month_data = city_data[(city_data['Date'].dt.year == year) & (city_data['Date'].dt.month == month)]\n",
    "            \n",
    "            if not month_data.empty:\n",
    "                # Calculate mean and variance for each city within this month\n",
    "                monthly_stats[year][month] = month_data.groupby('City')['AQI'].agg(['mean', 'var']).to_dict(orient='index')\n",
    "                \n",
    "    # Convert to DataFrame for easier viewing\n",
    "    monthly_stats_df = pd.DataFrame.from_dict({(year, month): monthly_stats[year][month] \n",
    "                                               for year in monthly_stats.keys() \n",
    "                                               for month in monthly_stats[year].keys()},\n",
    "                                              orient='index')\n",
    "    return monthly_stats_df\n",
    "\n",
    "monthly_stats_delhi = calculate_monthly_stats(delhi_daily)\n",
    "monthly_stats_kolkata = calculate_monthly_stats(kolkata_daily)"
   ]
  },
  {
   "cell_type": "code",
   "execution_count": null,
   "metadata": {},
   "outputs": [],
   "source": [
    "# Plotting monthly mean AQI for Delhi and Mumbai\n",
    "plt.figure(figsize=(15,6))\n",
    "monthly_stats_delhi['Delhi'].apply(lambda x: x['mean']).plot(label='Delhi')\n",
    "monthly_stats_kolkata['Kolkata'].apply(lambda x: x['mean']).plot(label='Kolkata')\n",
    "plt.xlabel('Year-Month')\n",
    "plt.ylabel('Mean AQI')\n",
    "plt.legend()\n",
    "plt.xticks(ticks=range(len(monthly_stats_delhi.index)), labels=[f\"{year}-{month:02d}\" for year, month in monthly_stats_delhi.index], rotation=45)\n",
    "plt.show()\n"
   ]
  },
  {
   "cell_type": "code",
   "execution_count": null,
   "metadata": {},
   "outputs": [],
   "source": [
    "# Plotting monthly variance of AQI for Delhi and Mumbai\n",
    "plt.figure(figsize=(15,6))\n",
    "monthly_stats_delhi['Delhi'].apply(lambda x: x['var']).plot(label='Delhi')\n",
    "monthly_stats_kolkata['Kolkata'].apply(lambda x: x['var']).plot(label='Kolkata')\n",
    "plt.xlabel('Year-Month')\n",
    "plt.ylabel('Variance AQI')\n",
    "plt.legend()\n",
    "plt.xticks(ticks=range(len(monthly_stats_delhi.index)), labels=[f\"{year}-{month:02d}\" for year, month in monthly_stats_delhi.index], rotation=45)\n",
    "plt.show()\n"
   ]
  },
  {
   "cell_type": "code",
   "execution_count": null,
   "metadata": {},
   "outputs": [],
   "source": [
    "fig, axes = plt.subplots(1, 2, figsize=(14, 6), sharey=True)\n",
    "axes[0].hist(delhi_daily['AQI'], bins=20,color='green' ,edgecolor='black')\n",
    "axes[0].set_title('Delhi AQI')\n",
    "axes[0].set_xlabel('AQI Value')\n",
    "axes[0].set_ylabel('Number of Days')\n",
    "\n",
    "# Kolkata AQI Histogram\n",
    "axes[1].hist(kolkata_daily['AQI'], bins=20, edgecolor='black')\n",
    "axes[1].set_title('Kolkata')\n",
    "axes[1].set_xlabel('AQI Value')\n",
    "\n",
    "# Show the plots\n",
    "plt.tight_layout()\n",
    "plt.show()"
   ]
  },
  {
   "cell_type": "code",
   "execution_count": null,
   "metadata": {},
   "outputs": [],
   "source": [
    "fig, axes = plt.subplots(1, 2, figsize=(14, 6), sharey=True)\n",
    "axes[0].hist(delhi_hourly['AQI'], bins=20,color='green' ,edgecolor='black')\n",
    "axes[0].set_title('Delhi AQI')\n",
    "axes[0].set_xlabel('AQI Value')\n",
    "axes[0].set_ylabel('Number of Hours')\n",
    "\n",
    "# Kolkata AQI Histogram\n",
    "axes[1].hist(kolkata_hourly['AQI'], bins=20, edgecolor='black')\n",
    "axes[1].set_title('Kolkata')\n",
    "axes[1].set_xlabel('AQI Value')\n",
    "\n",
    "# Show the plots\n",
    "plt.tight_layout()\n",
    "plt.show()"
   ]
  },
  {
   "cell_type": "code",
   "execution_count": null,
   "metadata": {},
   "outputs": [],
   "source": [
    "x=delhi_daily[(delhi_daily['City'] == 'Delhi') & (delhi_daily['Date'] >= '2018-07-01') & (delhi_daily['Date'] <= '2020-07-01')]\n",
    "aqi_counts = x['AQI'].value_counts().sort_index()\n",
    "plt.figure(figsize=(10, 6))\n",
    "plt.scatter(aqi_counts.index, aqi_counts.values, color='blue', edgecolor='black')\n",
    "plt.xlabel('AQI Value')\n",
    "plt.ylabel('Number of Days')\n",
    "plt.show()"
   ]
  },
  {
   "cell_type": "code",
   "execution_count": null,
   "metadata": {},
   "outputs": [],
   "source": [
    "x=delhi_hourly[(delhi_hourly['City'] == 'Delhi') & (delhi_hourly['DateT'] >= '2018-07-01') & (delhi_hourly['DateT'] <= '2020-07-01')]\n",
    "aqi_counts = x['AQI'].value_counts().sort_index()\n",
    "plt.figure(figsize=(10, 6))\n",
    "plt.scatter(aqi_counts.index, aqi_counts.values, color='blue', edgecolor='black')\n",
    "plt.xlabel('AQI Value')\n",
    "plt.ylabel('Number of Hours')\n",
    "plt.show()"
   ]
  },
  {
   "cell_type": "code",
   "execution_count": null,
   "metadata": {},
   "outputs": [],
   "source": [
    "delhi_daily=delhi_daily[delhi_daily['Date']<='2020-05-01 00:00:00']\n",
    "kolkata_daily=kolkata_daily[kolkata_daily['Date']<='2020-05-01 00:00:00']\n",
    "delhi_hourly=delhi_hourly[delhi_hourly['DateT']<='2020-05-01 00:00:00']\n",
    "kolkata_hourly=kolkata_hourly[kolkata_hourly['DateT']<='2020-05-01 00:00:00']"
   ]
  },
  {
   "cell_type": "code",
   "execution_count": null,
   "metadata": {},
   "outputs": [],
   "source": [
    "\n",
    "def calculate_aqi_stats(city_data, start_date, end_date):\n",
    "    # Filter data for the specified date range\n",
    "    filtered_data = city_data[(city_data['DateT'] >= start_date) & (city_data['DateT'] <= end_date)]\n",
    "    \n",
    "    # Calculate mean and variance\n",
    "    mean_aqi = filtered_data['AQI'].mean()\n",
    "    variance_aqi = filtered_data['AQI'].var()\n",
    "    \n",
    "    # Store the results in a dictionary\n",
    "    aqi_stats = {\n",
    "        'mean': mean_aqi,\n",
    "        'variance': variance_aqi\n",
    "    }\n",
    "    \n",
    "    return aqi_stats\n",
    "\n",
    "# Example usage:\n",
    "start_date = '2018-07-01'\n",
    "end_date = '2020-07-01'\n",
    "delhi_aqi_stats = calculate_aqi_stats(delhi_hourly, start_date, end_date)\n",
    "kolkata_aqi_stats = calculate_aqi_stats(kolkata_hourly, start_date, end_date)\n",
    "\n",
    "print(\"Delhi AQI Stats:\", delhi_aqi_stats)\n",
    "print(\"Kolkata AQI Stats:\", kolkata_aqi_stats)\n"
   ]
  },
  {
   "cell_type": "code",
   "execution_count": null,
   "metadata": {},
   "outputs": [],
   "source": [
    "from pandas.tseries.offsets import DateOffset\n",
    "\n",
    "def calculate_aqi_stats_intervals(city_data, start_date, end_date, interval_months=2):\n",
    "    start_date = pd.to_datetime(start_date)\n",
    "    end_date = pd.to_datetime(end_date)\n",
    "    \n",
    "    current_start = start_date\n",
    "    means = []\n",
    "    variances = []\n",
    "    \n",
    "    while current_start < end_date:\n",
    "        current_end = current_start + DateOffset(months=interval_months)\n",
    "        if current_end > end_date:\n",
    "            current_end = end_date\n",
    "        \n",
    "        stats = calculate_aqi_stats(city_data, current_start, current_end)\n",
    "        means.append(stats['mean'])\n",
    "        variances.append(stats['variance'])\n",
    "        \n",
    "        current_start = current_end\n",
    "    \n",
    "    return means, variances\n",
    "\n",
    "# Example usage:\n",
    "start_date = '2018-07-01'\n",
    "end_date = '2020-07-01'\n",
    "delhi_aqi_stats_intervals = calculate_aqi_stats_intervals(delhi_hourly, start_date, end_date)\n",
    "kolkata_aqi_stats_intervals = calculate_aqi_stats_intervals(kolkata_hourly, start_date, end_date)\n",
    "\n",
    "print(\"Delhi AQI Stats Intervals:\", delhi_aqi_stats_intervals)\n",
    "print(\"Kolkata AQI Stats Intervals:\", kolkata_aqi_stats_intervals)\n",
    "len(delhi_aqi_stats_intervals[1])"
   ]
  },
  {
   "cell_type": "code",
   "execution_count": null,
   "metadata": {},
   "outputs": [],
   "source": [
    "import numpy as np\n",
    "\n",
    "# Function to remove NaN values from lists\n",
    "def remove_nan_values(stats_intervals):\n",
    "    means, variances = stats_intervals\n",
    "    means = [value for value in means if not np.isnan(value)]\n",
    "    variances = [value for value in variances if not np.isnan(value)]\n",
    "    return means, variances\n",
    "\n",
    "# Remove NaN values from the intervals\n",
    "delhi_aqi_stats_intervals = remove_nan_values(delhi_aqi_stats_intervals)\n",
    "kolkata_aqi_stats_intervals = remove_nan_values(kolkata_aqi_stats_intervals)\n",
    "\n",
    "print(\"Delhi AQI Stats Intervals without NaN:\", delhi_aqi_stats_intervals)\n",
    "print(\"Kolkata AQI Stats Intervals without NaN:\", kolkata_aqi_stats_intervals)\n",
    "# Adding another value to the intervals\n",
    "delhi_aqi_stats_intervals[1].append(1444.38)\n",
    "\n",
    "kolkata_aqi_stats_intervals[1].append(1243.83)\n",
    "\n",
    "print(\"Updated Delhi AQI Stats Intervals:\", delhi_aqi_stats_intervals)\n",
    "print(\"Updated Kolkata AQI Stats Intervals:\", kolkata_aqi_stats_intervals)"
   ]
  },
  {
   "cell_type": "code",
   "execution_count": null,
   "metadata": {},
   "outputs": [],
   "source": [
    "#calculating mean and variance of Delhi AQI Stats Intervals\n",
    "import numpy as np\n",
    "def calculate_mean_variance(aqi_intervals):\n",
    "    means, variances = aqi_intervals\n",
    "    sample_mean = np.mean(means)\n",
    "    sample_variance = np.var(variances, ddof=1)\n",
    "    return sample_mean, sample_variance"
   ]
  },
  {
   "cell_type": "code",
   "execution_count": null,
   "metadata": {},
   "outputs": [],
   "source": [
    "mean_delhi, variance_delhi = calculate_mean_variance(delhi_aqi_stats_intervals)\n",
    "mean_delhi, variance_delhi\n"
   ]
  },
  {
   "cell_type": "code",
   "execution_count": null,
   "metadata": {},
   "outputs": [],
   "source": [
    "\n",
    "mean_kolkata, variance_kolkata = calculate_mean_variance(kolkata_aqi_stats_intervals)\n",
    "mean_kolkata, variance_kolkata\n"
   ]
  },
  {
   "cell_type": "code",
   "execution_count": null,
   "metadata": {},
   "outputs": [],
   "source": [
    "def standard_error_of_difference(var1, var2, n1, n2):\n",
    "    \"\"\"Calculate the standard error of the difference between two means.\"\"\"\n",
    "    se = np.sqrt((var1 / n1) + (var2 / n2))\n",
    "    return se"
   ]
  },
  {
   "cell_type": "code",
   "execution_count": null,
   "metadata": {},
   "outputs": [],
   "source": [
    "from scipy.stats import norm\n",
    "mean_dff=mean_delhi-mean_kolkata\n",
    "sdd= standard_error_of_difference(variance_delhi, variance_kolkata, 360, 360)\n",
    "mean_dff, sdd\n"
   ]
  },
  {
   "cell_type": "code",
   "execution_count": null,
   "metadata": {},
   "outputs": [],
   "source": [
    "\n",
    "z_critical = norm.ppf(0.975) \n",
    "ci_lower = mean_dff - z_critical * sdd  \n",
    "ci_upper = mean_dff + z_critical * sdd\n",
    "ci_lower, ci_upper"
   ]
  }
 ],
 "metadata": {
  "kernelspec": {
   "display_name": "Python 3",
   "language": "python",
   "name": "python3"
  },
  "language_info": {
   "codemirror_mode": {
    "name": "ipython",
    "version": 3
   },
   "file_extension": ".py",
   "mimetype": "text/x-python",
   "name": "python",
   "nbconvert_exporter": "python",
   "pygments_lexer": "ipython3",
   "version": "3.11.5"
  }
 },
 "nbformat": 4,
 "nbformat_minor": 2
}
